{
  "nbformat": 4,
  "nbformat_minor": 0,
  "metadata": {
    "colab": {
      "name": "DFS Traversal.ipynb",
      "provenance": []
    },
    "kernelspec": {
      "name": "python3",
      "display_name": "Python 3"
    },
    "language_info": {
      "name": "python"
    }
  },
  "cells": [
    {
      "cell_type": "markdown",
      "source": [
        "## **Tree Traversal**"
      ],
      "metadata": {
        "id": "PGTi_zO9H09W"
      }
    },
    {
      "cell_type": "markdown",
      "source": [
        "![Sample Tree.gif](data:image/gif;base64,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)"
      ],
      "metadata": {
        "id": "G_cBD5crIAiQ"
      }
    },
    {
      "cell_type": "markdown",
      "source": [
        "\n",
        "There are two types of Tree Traversal\n",
        "\n",
        "\n",
        "1.   BREADTH FIRST SEARCH (BFS): Level Order Traversal : 1 2 3 4 5\n",
        "2.   DEPTH FIRT SEARCH (DFS)\n",
        "\n",
        "We further classify DFS into three subtypes:\n",
        "\n",
        "1.   Inorder: Left -> Root -> Right : 4 2 5 1 3 \n",
        "2.   Preorder: Root -> Left -> Right: 1 2 4 5 3\n",
        "3.   Postorder: Left -> Right -> Root: 4 5 2 3 1\n",
        "\n",
        "\n",
        "\n",
        "\n",
        "\n"
      ],
      "metadata": {
        "id": "4JgJuQ6NIaE0"
      }
    },
    {
      "cell_type": "markdown",
      "source": [
        "### Leetcode 144: Binary Tree Pre-order\n",
        "Link: https://leetcode.com/problems/binary-tree-preorder-traversal/\n",
        "\n"
      ],
      "metadata": {
        "id": "faqa3FjwJ8_3"
      }
    },
    {
      "cell_type": "code",
      "source": [
        "# Definition for a binary tree node.\n",
        "# class TreeNode:\n",
        "#     def __init__(self, val=0, left=None, right=None):\n",
        "#         self.val = val\n",
        "#         self.left = left\n",
        "#         self.right = right\n",
        "\n",
        "class Solution:\n",
        "    def __init__(self):\n",
        "        self.preorder = []\n",
        "        \n",
        "    def preorderTraversal(self, root: Optional[TreeNode]) -> List[int]:\n",
        "        if (root == None):\n",
        "            return\n",
        "        self.preorder.append(root.val)\n",
        "        self.preorderTraversal(root.left)\n",
        "        self.preorderTraversal(root.right)\n",
        "        return self.preorder\n"
      ],
      "metadata": {
        "id": "ZE_iCcOKLZd7"
      },
      "execution_count": null,
      "outputs": []
    },
    {
      "cell_type": "markdown",
      "source": [
        "### Leetcode 94: Inorder Traversal\n",
        "Link: https://leetcode.com/problems/binary-tree-inorder-traversal/\n"
      ],
      "metadata": {
        "id": "SbVPc8mgXxIM"
      }
    },
    {
      "cell_type": "code",
      "source": [
        "\n",
        "class Solution:\n",
        "    def __init__(self):\n",
        "        self.inorder = []\n",
        "        \n",
        "    def inorderTraversal(self, root):\n",
        "        if (root==None):\n",
        "            return\n",
        "        self.inorderTraversal(root.left)\n",
        "        self.inorder.append(root.val)\n",
        "        self.inorderTraversal(root.right)\n",
        "        return self.inorder"
      ],
      "metadata": {
        "id": "BQNRmZ3QYD6k"
      },
      "execution_count": null,
      "outputs": []
    },
    {
      "cell_type": "markdown",
      "source": [
        "### Leetcode 145: Postorder Traversal\n",
        "Link: https://leetcode.com/problems/binary-tree-postorder-traversal/\n"
      ],
      "metadata": {
        "id": "A_LtRaUAaQAC"
      }
    },
    {
      "cell_type": "code",
      "source": [
        "class Solution:\n",
        "    def __init__(self):\n",
        "        self.postorder = []\n",
        "        \n",
        "    def postorderTraversal(self, root: Optional[TreeNode]) -> List[int]:\n",
        "        if (root == None):\n",
        "            return\n",
        "        self.postorderTraversal(root.left)\n",
        "        self.postorderTraversal(root.right)\n",
        "        self.postorder.append(root.val)\n",
        "        return self.postorder\n",
        "        "
      ],
      "metadata": {
        "id": "Px-IUT-8aIIv"
      },
      "execution_count": null,
      "outputs": []
    }
  ]
}